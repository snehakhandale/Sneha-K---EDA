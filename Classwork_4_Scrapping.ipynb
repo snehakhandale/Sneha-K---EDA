{
  "nbformat": 4,
  "nbformat_minor": 0,
  "metadata": {
    "colab": {
      "provenance": []
    },
    "kernelspec": {
      "name": "python3",
      "display_name": "Python 3"
    },
    "language_info": {
      "name": "python"
    }
  },
  "cells": [
    {
      "cell_type": "code",
      "execution_count": 1,
      "metadata": {
        "id": "sSsBWWNweW-m"
      },
      "outputs": [],
      "source": [
        "import requests\n",
        "\n",
        "from bs4 import BeautifulSoup"
      ]
    },
    {
      "cell_type": "code",
      "source": [
        "import pandas as pd\n"
      ],
      "metadata": {
        "id": "M1yTA9XBeYUF"
      },
      "execution_count": 2,
      "outputs": []
    },
    {
      "cell_type": "code",
      "source": [
        "headers = {\n",
        "    'User-Agent': 'Mozilla/5.0 (Windows NT 6.1) AppleWebKit/537.36 (KHTML, like Gecko) Chrome/41.0.2228.0 Safari/537.36'\n",
        "}"
      ],
      "metadata": {
        "id": "99-o3CJ-ebde"
      },
      "execution_count": 3,
      "outputs": []
    },
    {
      "cell_type": "code",
      "source": [
        "url=\"https://www.imdb.com/chart/top/\""
      ],
      "metadata": {
        "id": "A92-v6IzefYH"
      },
      "execution_count": 5,
      "outputs": []
    },
    {
      "cell_type": "code",
      "source": [
        "response=requests.get(url,headers=headers)\n"
      ],
      "metadata": {
        "id": "w9xRD0zjek8J"
      },
      "execution_count": 6,
      "outputs": []
    },
    {
      "cell_type": "code",
      "source": [
        "soup=BeautifulSoup(response.content,'html.parser')\n"
      ],
      "metadata": {
        "id": "nORvgUQxeq4m"
      },
      "execution_count": 7,
      "outputs": []
    },
    {
      "cell_type": "code",
      "source": [
        "soup.select('h3',class_='ipc-title__text')\n",
        "movies=[]"
      ],
      "metadata": {
        "id": "7qNkpaD6ettd"
      },
      "execution_count": 8,
      "outputs": []
    },
    {
      "cell_type": "code",
      "source": [
        "for i in soup.select('h3',class_='ipc-title__text'):\n",
        "    movies.append(i.text)\n",
        "\n",
        "movies_250=[]\n",
        "for i in movies:\n",
        "    try:\n",
        "        var=int(i.split('.')[0])\n",
        "        movies_250.append(i)\n",
        "    except:\n",
        "        continue\n",
        "print(*movies_250, sep='\\n')"
      ],
      "metadata": {
        "colab": {
          "base_uri": "https://localhost:8080/"
        },
        "id": "GtWyaJBUewbf",
        "outputId": "2e39337a-319b-4410-8f4c-012db8253119"
      },
      "execution_count": 9,
      "outputs": [
        {
          "output_type": "stream",
          "name": "stdout",
          "text": [
            "1. The Shawshank Redemption\n",
            "2. The Godfather\n",
            "3. The Dark Knight\n",
            "4. The Godfather Part II\n",
            "5. 12 Angry Men\n",
            "6. Schindler's List\n",
            "7. The Lord of the Rings: The Return of the King\n",
            "8. Pulp Fiction\n",
            "9. The Lord of the Rings: The Fellowship of the Ring\n",
            "10. The Good, the Bad and the Ugly\n",
            "11. Forrest Gump\n",
            "12. The Lord of the Rings: The Two Towers\n",
            "13. Fight Club\n",
            "14. Inception\n",
            "15. Star Wars: Episode V - The Empire Strikes Back\n",
            "16. The Matrix\n",
            "17. Goodfellas\n",
            "18. One Flew Over the Cuckoo's Nest\n",
            "19. Dune: Part Two\n",
            "20. Se7en\n",
            "21. Interstellar\n",
            "22. It's a Wonderful Life\n",
            "23. Seven Samurai\n",
            "24. The Silence of the Lambs\n",
            "25. Saving Private Ryan\n",
            "26. City of God\n",
            "27. Life Is Beautiful\n",
            "28. The Green Mile\n",
            "29. Terminator 2: Judgment Day\n",
            "30. Star Wars: Episode IV - A New Hope\n",
            "31. Back to the Future\n",
            "32. Spirited Away\n",
            "33. The Pianist\n",
            "34. Parasite\n",
            "35. Psycho\n",
            "36. Spider-Man: Across the Spider-Verse\n",
            "37. Gladiator\n",
            "38. The Lion King\n",
            "39. Léon: The Professional\n",
            "40. The Departed\n",
            "41. American History X\n",
            "42. Whiplash\n",
            "43. The Prestige\n",
            "44. Grave of the Fireflies\n",
            "45. Harakiri\n",
            "46. The Usual Suspects\n",
            "47. Casablanca\n",
            "48. The Intouchables\n",
            "49. Cinema Paradiso\n",
            "50. Modern Times\n",
            "51. Rear Window\n",
            "52. Once Upon a Time in the West\n",
            "53. Alien\n",
            "54. City Lights\n",
            "55. Django Unchained\n",
            "56. Apocalypse Now\n",
            "57. Memento\n",
            "58. 12th Fail\n",
            "59. WALL·E\n",
            "60. Raiders of the Lost Ark\n",
            "61. The Lives of Others\n",
            "62. Sunset Blvd.\n",
            "63. Paths of Glory\n",
            "64. Avengers: Infinity War\n",
            "65. Spider-Man: Into the Spider-Verse\n",
            "66. Witness for the Prosecution\n",
            "67. The Shining\n",
            "68. The Great Dictator\n",
            "69. Aliens\n",
            "70. Inglourious Basterds\n",
            "71. The Dark Knight Rises\n",
            "72. Dr. Strangelove or: How I Learned to Stop Worrying and Love the Bomb\n",
            "73. American Beauty\n",
            "74. Oldboy\n",
            "75. Coco\n",
            "76. Amadeus\n",
            "77. Toy Story\n",
            "78. Das Boot\n",
            "79. Avengers: Endgame\n",
            "80. Braveheart\n",
            "81. Joker\n",
            "82. Princess Mononoke\n",
            "83. Good Will Hunting\n",
            "84. Your Name.\n",
            "85. Once Upon a Time in America\n",
            "86. High and Low\n",
            "87. 3 Idiots\n",
            "88. Singin' in the Rain\n",
            "89. Capernaum\n",
            "90. Requiem for a Dream\n",
            "91. Come and See\n",
            "92. Toy Story 3\n",
            "93. Star Wars: Episode VI - Return of the Jedi\n",
            "94. Oppenheimer\n",
            "95. Eternal Sunshine of the Spotless Mind\n",
            "96. The Hunt\n",
            "97. 2001: A Space Odyssey\n",
            "98. Reservoir Dogs\n",
            "99. Ikiru\n",
            "100. Lawrence of Arabia\n",
            "101. The Apartment\n",
            "102. North by Northwest\n",
            "103. Citizen Kane\n",
            "104. Incendies\n",
            "105. Vertigo\n",
            "106. M\n",
            "107. Double Indemnity\n",
            "108. Scarface\n",
            "109. Amélie\n",
            "110. Full Metal Jacket\n",
            "111. Heat\n",
            "112. A Clockwork Orange\n",
            "113. Up\n",
            "114. To Kill a Mockingbird\n",
            "115. The Sting\n",
            "116. A Separation\n",
            "117. Indiana Jones and the Last Crusade\n",
            "118. Die Hard\n",
            "119. Metropolis\n",
            "120. Like Stars on Earth\n",
            "121. Snatch\n",
            "122. Hamilton\n",
            "123. L.A. Confidential\n",
            "124. 1917\n",
            "125. Bicycle Thieves\n",
            "126. Taxi Driver\n",
            "127. Downfall\n",
            "128. Dangal\n",
            "129. For a Few Dollars More\n",
            "130. Batman Begins\n",
            "131. The Wolf of Wall Street\n",
            "132. Some Like It Hot\n",
            "133. Green Book\n",
            "134. The Kid\n",
            "135. The Father\n",
            "136. Judgment at Nuremberg\n",
            "137. All About Eve\n",
            "138. The Truman Show\n",
            "139. Top Gun: Maverick\n",
            "140. Shutter Island\n",
            "141. There Will Be Blood\n",
            "142. Casino\n",
            "143. Jurassic Park\n",
            "144. Ran\n",
            "145. The Sixth Sense\n",
            "146. Pan's Labyrinth\n",
            "147. Unforgiven\n",
            "148. No Country for Old Men\n",
            "149. A Beautiful Mind\n",
            "150. The Thing\n",
            "151. Kill Bill: Vol. 1\n",
            "152. The Treasure of the Sierra Madre\n",
            "153. Yojimbo\n",
            "154. Monty Python and the Holy Grail\n",
            "155. The Great Escape\n",
            "156. Finding Nemo\n",
            "157. Rashomon\n",
            "158. Prisoners\n",
            "159. Howl's Moving Castle\n",
            "160. The Elephant Man\n",
            "161. Chinatown\n",
            "162. Dial M for Murder\n",
            "163. Gone with the Wind\n",
            "164. V for Vendetta\n",
            "165. Lock, Stock and Two Smoking Barrels\n",
            "166. The Secret in Their Eyes\n",
            "167. Inside Out\n",
            "168. Raging Bull\n",
            "169. Three Billboards Outside Ebbing, Missouri\n",
            "170. Trainspotting\n",
            "171. The Bridge on the River Kwai\n",
            "172. Spider-Man: No Way Home\n",
            "173. Fargo\n",
            "174. Klaus\n",
            "175. Catch Me If You Can\n",
            "176. Warrior\n",
            "177. Godzilla Minus One\n",
            "178. Gran Torino\n",
            "179. My Neighbor Totoro\n",
            "180. Million Dollar Baby\n",
            "181. Harry Potter and the Deathly Hallows: Part 2\n",
            "182. Children of Heaven\n",
            "183. 12 Years a Slave\n",
            "184. Blade Runner\n",
            "185. Before Sunrise\n",
            "186. Ben-Hur\n",
            "187. Barry Lyndon\n",
            "188. The Grand Budapest Hotel\n",
            "189. Gone Girl\n",
            "190. Hacksaw Ridge\n",
            "191. The Gold Rush\n",
            "192. Memories of Murder\n",
            "193. In the Name of the Father\n",
            "194. Dead Poets Society\n",
            "195. Wild Tales\n",
            "196. Mad Max: Fury Road\n",
            "197. The General\n",
            "198. The Deer Hunter\n",
            "199. On the Waterfront\n",
            "200. Monsters, Inc.\n",
            "201. Sherlock Jr.\n",
            "202. The Third Man\n",
            "203. The Wages of Fear\n",
            "204. Wild Strawberries\n",
            "205. How to Train Your Dragon\n",
            "206. Jaws\n",
            "207. Mary and Max\n",
            "208. Mr. Smith Goes to Washington\n",
            "209. Ratatouille\n",
            "210. Ford v Ferrari\n",
            "211. Tokyo Story\n",
            "212. The Big Lebowski\n",
            "213. Room\n",
            "214. The Seventh Seal\n",
            "215. Rocky\n",
            "216. Logan\n",
            "217. Spotlight\n",
            "218. Hotel Rwanda\n",
            "219. The Terminator\n",
            "220. Platoon\n",
            "221. The Passion of Joan of Arc\n",
            "222. Before Sunset\n",
            "223. La haine\n",
            "224. The Best Years of Our Lives\n",
            "225. Pirates of the Caribbean: The Curse of the Black Pearl\n",
            "226. The Exorcist\n",
            "227. Rush\n",
            "228. Jai Bhim\n",
            "229. Network\n",
            "230. Stand by Me\n",
            "231. The Wizard of Oz\n",
            "232. The Incredibles\n",
            "233. Hachi: A Dog's Tale\n",
            "234. The Handmaiden\n",
            "235. Into the Wild\n",
            "236. My Father and My Son\n",
            "237. The Sound of Music\n",
            "238. The Grapes of Wrath\n",
            "239. To Be or Not to Be\n",
            "240. The Battle of Algiers\n",
            "241. Groundhog Day\n",
            "242. Amores Perros\n",
            "243. Rebecca\n",
            "244. The Iron Giant\n",
            "245. Cool Hand Luke\n",
            "246. The Help\n",
            "247. It Happened One Night\n",
            "248. Aladdin\n",
            "249. Dances with Wolves\n",
            "250. Gangs of Wasseypur\n"
          ]
        }
      ]
    },
    {
      "cell_type": "code",
      "source": [
        "import requests\n",
        "from bs4 import BeautifulSoup"
      ],
      "metadata": {
        "id": "kpy4prlBezUw"
      },
      "execution_count": 10,
      "outputs": []
    },
    {
      "cell_type": "code",
      "source": [
        "url = \"https://en.wikipedia.org/wiki/List_of_states_and_territories_of_the_United_States\"\n",
        "response = requests.get(url)\n",
        "if response.status_code != 200:\n",
        "    print(f\"Failed to fetch page: {response.status_code}\")\n",
        "    exit()"
      ],
      "metadata": {
        "id": "jy_kVM46e7W5"
      },
      "execution_count": 11,
      "outputs": []
    },
    {
      "cell_type": "code",
      "source": [
        "# Parse the HTML content of the page\n",
        "soup = BeautifulSoup(response.content, 'html.parser')"
      ],
      "metadata": {
        "id": "CH-2WXCXe-2S"
      },
      "execution_count": 12,
      "outputs": []
    },
    {
      "cell_type": "code",
      "source": [
        "# Find the table containing the state data\n",
        "table = soup.find('table', class_='wikitable')"
      ],
      "metadata": {
        "id": "Xeg2xeh3fTvg"
      },
      "execution_count": 13,
      "outputs": []
    },
    {
      "cell_type": "code",
      "source": [
        "# Initialize lists to store state names and populations\n",
        "states = []\n",
        "populations = []"
      ],
      "metadata": {
        "id": "RH8Zlc-nfYvT"
      },
      "execution_count": 14,
      "outputs": []
    },
    {
      "cell_type": "code",
      "source": [
        "# Extract column headers to determine the index of the population column\n",
        "header_row = table.find('tr')\n",
        "headers = [header.text.strip() for header in header_row.find_all('th')]\n",
        "population_index = None\n",
        "for i, header in enumerate(headers):\n",
        "    if 'Population' in header:\n",
        "        population_index = i\n",
        "        break\n",
        "\n",
        "if population_index is None:\n",
        "    print(\"Population column not found.\")\n",
        "    exit()"
      ],
      "metadata": {
        "id": "M-iwa6LAfcG_"
      },
      "execution_count": 15,
      "outputs": []
    },
    {
      "cell_type": "code",
      "source": [
        "# Extract data from the table rows\n",
        "rows = table.find_all('tr')[1:]  # Exclude header row\n",
        "for row in rows:\n",
        "    # Extract data from table cells\n",
        "    cells = row.find_all('td')\n",
        "    if len(cells) >= population_index + 1:  # Ensure the population column exists\n",
        "        state = cells[0].text.strip()\n",
        "        population = cells[population_index].text.strip()\n",
        "\n",
        "        # Append data to respective lists\n",
        "        states.append(state)\n",
        "        populations.append(population)\n",
        "    else:\n",
        "        print(\" \")\n"
      ],
      "metadata": {
        "colab": {
          "base_uri": "https://localhost:8080/"
        },
        "id": "HlyWE-fQff2f",
        "outputId": "19f39048-60b2-47bd-e769-d06843cf92ce"
      },
      "execution_count": 16,
      "outputs": [
        {
          "output_type": "stream",
          "name": "stdout",
          "text": [
            " \n"
          ]
        }
      ]
    },
    {
      "cell_type": "code",
      "source": [
        "# Print the extracted data\n",
        "for state, population in zip(states, populations):\n",
        "    print(f\"State: {state}, Population: {population}\")"
      ],
      "metadata": {
        "colab": {
          "base_uri": "https://localhost:8080/"
        },
        "id": "RhYNTjvTfjdD",
        "outputId": "dc2a4f4b-15b7-426f-b384-705503a9dc0d"
      },
      "execution_count": 17,
      "outputs": [
        {
          "output_type": "stream",
          "name": "stdout",
          "text": [
            "State: AL, Population: Dec 14, 1819\n",
            "State: AK, Population: Jan 3, 1959\n",
            "State: AZ, Population: 7,151,502\n",
            "State: AR, Population: 3,011,524\n",
            "State: CA, Population: Sep 9, 1850\n",
            "State: CO, Population: 5,773,714\n",
            "State: CT, Population: Jan 9, 1788\n",
            "State: DE, Population: Dec 7, 1787\n",
            "State: FL, Population: Mar 3, 1845\n",
            "State: GA, Population: 10,711,908\n",
            "State: HI, Population: 1,455,271\n",
            "State: ID, Population: 1,839,106\n",
            "State: IL, Population: Dec 3, 1818\n",
            "State: IN, Population: 6,785,528\n",
            "State: IA, Population: 3,190,369\n",
            "State: KS, Population: Jan 29, 1861\n",
            "State: KY, Population: Jun 1, 1792\n",
            "State: LA, Population: Apr 30, 1812\n",
            "State: ME, Population: Mar 15, 1820\n",
            "State: MD, Population: Apr 28, 1788\n",
            "State: MA, Population: 7,029,917\n",
            "State: MI, Population: Jan 26, 1837\n",
            "State: MN, Population: May 11, 1858\n",
            "State: MS, Population: 2,961,279\n",
            "State: MO, Population: Aug 10, 1821\n",
            "State: MT, Population: Nov 8, 1889\n",
            "State: NE, Population: Mar 1, 1867\n",
            "State: NV, Population: Oct 31, 1864\n",
            "State: NH, Population: Jun 21, 1788\n",
            "State: NJ, Population: Dec 18, 1787\n",
            "State: NM, Population: Jan 6, 1912\n",
            "State: NY, Population: Jul 26, 1788\n",
            "State: NC, Population: Nov 21, 1789\n",
            "State: ND, Population: Nov 2, 1889\n",
            "State: OH, Population: 11,799,448\n",
            "State: OK, Population: 3,959,353\n",
            "State: OR, Population: Feb 14, 1859\n",
            "State: PA, Population: Dec 12, 1787\n",
            "State: RI, Population: 1,097,379\n",
            "State: SC, Population: May 23, 1788\n",
            "State: SD, Population: Nov 2, 1889\n",
            "State: TN, Population: 6,910,840\n",
            "State: TX, Population: Dec 29, 1845\n",
            "State: UT, Population: 3,271,616\n",
            "State: VT, Population: Mar 4, 1791\n",
            "State: VA, Population: Jun 25, 1788\n",
            "State: WA, Population: Nov 11, 1889\n",
            "State: WV, Population: 1,793,716\n",
            "State: WI, Population: May 29, 1848\n",
            "State: WY, Population: 576,851\n"
          ]
        }
      ]
    },
    {
      "cell_type": "code",
      "source": [],
      "metadata": {
        "id": "7ArPyiKcfpVR"
      },
      "execution_count": null,
      "outputs": []
    }
  ]
}