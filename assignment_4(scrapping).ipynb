{
  "nbformat": 4,
  "nbformat_minor": 0,
  "metadata": {
    "colab": {
      "provenance": []
    },
    "kernelspec": {
      "name": "python3",
      "display_name": "Python 3"
    },
    "language_info": {
      "name": "python"
    }
  },
  "cells": [
    {
      "cell_type": "code",
      "execution_count": 1,
      "metadata": {
        "id": "c6MaGw1PbkGH"
      },
      "outputs": [],
      "source": [
        "import requests\n",
        "from bs4 import BeautifulSoup"
      ]
    },
    {
      "cell_type": "code",
      "source": [
        "url = \"https://en.wikipedia.org/wiki/List_of_active_Indian_military_aircraft\"\n"
      ],
      "metadata": {
        "id": "1beEsHbUbnJp"
      },
      "execution_count": 2,
      "outputs": []
    },
    {
      "cell_type": "code",
      "source": [
        "response = requests.get(url)\n"
      ],
      "metadata": {
        "id": "U_jSymJ9br9a"
      },
      "execution_count": 3,
      "outputs": []
    },
    {
      "cell_type": "code",
      "source": [
        "soup = BeautifulSoup(response.content, \"html.parser\")\n"
      ],
      "metadata": {
        "id": "dAYp50mTbutJ"
      },
      "execution_count": 4,
      "outputs": []
    },
    {
      "cell_type": "code",
      "source": [
        "table = soup.find(\"table\", class_=\"wikitable\")\n"
      ],
      "metadata": {
        "id": "4hLuPsREbxQO"
      },
      "execution_count": 5,
      "outputs": []
    },
    {
      "cell_type": "code",
      "source": [
        "data = []\n",
        "for row in table.find_all(\"tr\")[1:]:\n",
        "    columns = row.find_all(\"td\")\n",
        "    if len(columns) >= 4:\n",
        "        aircraft_type = columns[0].text.strip()\n",
        "        origin = columns[1].text.strip()\n",
        "        in_service = columns[2].text.strip()\n",
        "        notes = columns[3].text.strip()\n",
        "        data.append({\"Aircraft Type\": aircraft_type, \"Origin\": origin, \"In Service\": in_service, \"Notes\": notes})\n",
        "\n",
        "\n",
        "for entry in data:\n",
        "    print(entry)"
      ],
      "metadata": {
        "colab": {
          "base_uri": "https://localhost:8080/"
        },
        "id": "3ZpWMMQjbzqX",
        "outputId": "004bdbd6-2b29-4443-fbdb-6bb7f657aebb"
      },
      "execution_count": 6,
      "outputs": [
        {
          "output_type": "stream",
          "name": "stdout",
          "text": [
            "{'Aircraft Type': 'MiG-21', 'Origin': 'Soviet Union', 'In Service': 'interceptor', 'Notes': 'MiG-21UPG'}\n",
            "{'Aircraft Type': 'MiG-29', 'Origin': 'Russia', 'In Service': 'multirole', 'Notes': 'MiG-29UPG'}\n",
            "{'Aircraft Type': 'conversion trainer', 'Origin': 'MiG-29UPG', 'In Service': '10[2][3]', 'Notes': ''}\n",
            "{'Aircraft Type': 'HAL Tejas', 'Origin': 'India', 'In Service': 'multirole', 'Notes': 'Mk.1'}\n",
            "{'Aircraft Type': 'conversion trainer', 'Origin': 'Mk.1 trainer', 'In Service': '2[6][7]', 'Notes': '16 more on order[8]'}\n",
            "{'Aircraft Type': 'multirole', 'Origin': 'Mk.1A', 'In Service': '', 'Notes': '73 on order, 97 more approved[8][9]'}\n",
            "{'Aircraft Type': 'Mirage 2000', 'Origin': 'France', 'In Service': 'multirole', 'Notes': 'H/I'}\n",
            "{'Aircraft Type': 'Sukhoi Su-30MKI', 'Origin': 'Russia', 'In Service': 'multirole', 'Notes': 'Su-30MKI'}\n",
            "{'Aircraft Type': 'Dassault Rafale', 'Origin': 'France', 'In Service': 'multirole', 'Notes': 'EH[12]'}\n",
            "{'Aircraft Type': 'multirole', 'Origin': 'DH', 'In Service': '8[2]', 'Notes': 'Used for training and operations.'}\n",
            "{'Aircraft Type': 'SEPECAT Jaguar', 'Origin': 'United Kingdom', 'In Service': 'ground attack', 'Notes': 'IM/IS[13]'}\n",
            "{'Aircraft Type': 'conversion trainer', 'Origin': 'IB', 'In Service': '30[2]', 'Notes': ''}\n",
            "{'Aircraft Type': 'Embraer R-99', 'Origin': 'Brazil', 'In Service': 'AEW&C', 'Notes': 'Netra Mk1'}\n",
            "{'Aircraft Type': 'Beriev A-50', 'Origin': 'Soviet Union', 'In Service': 'AEW&C', 'Notes': 'A-50EI'}\n",
            "{'Aircraft Type': 'Boeing 707', 'Origin': 'United States', 'In Service': 'SIGINT / ELINT', 'Notes': '707-337C Phalcon'}\n",
            "{'Aircraft Type': 'Global 5000', 'Origin': 'United States', 'In Service': 'ELINT', 'Notes': ''}\n",
            "{'Aircraft Type': 'Gulfstream G100', 'Origin': 'Israel', 'In Service': 'surveillance', 'Notes': '1125 Astra'}\n",
            "{'Aircraft Type': 'Gulfstream III', 'Origin': 'United States', 'In Service': 'ELINT', 'Notes': 'SRA[16]'}\n",
            "{'Aircraft Type': 'Ilyushin Il-78', 'Origin': 'Soviet Union', 'In Service': 'aerial refueling', 'Notes': 'Il-78MKI'}\n",
            "{'Aircraft Type': 'Boeing 737', 'Origin': 'United States', 'In Service': 'VIP transport', 'Notes': '737-700'}\n",
            "{'Aircraft Type': 'Boeing 777', 'Origin': 'United States', 'In Service': 'VIP transport', 'Notes': '777-300ER'}\n",
            "{'Aircraft Type': 'Embraer Legacy 600', 'Origin': 'Brazil', 'In Service': 'VIP transport', 'Notes': ''}\n",
            "{'Aircraft Type': 'Boeing C-17', 'Origin': 'United States', 'In Service': 'strategic airlifter', 'Notes': ''}\n",
            "{'Aircraft Type': 'Ilyushin Il-76', 'Origin': 'Soviet Union', 'In Service': 'strategic airlifter', 'Notes': 'Il-76MD'}\n",
            "{'Aircraft Type': 'Airbus A321', 'Origin': 'Europe', 'In Service': 'transport', 'Notes': 'A321-200'}\n",
            "{'Aircraft Type': 'Antonov An-32', 'Origin': 'Soviet Union', 'In Service': 'tactical airlifter', 'Notes': ''}\n",
            "{'Aircraft Type': 'Dornier Do 228', 'Origin': 'Germany', 'In Service': 'tactical airlifter', 'Notes': '228-201'}\n",
            "{'Aircraft Type': 'EADS CASA C-295', 'Origin': 'Spain', 'In Service': 'tactical airlifter', 'Notes': 'C-295MW'}\n",
            "{'Aircraft Type': 'C-130J Super Hercules', 'Origin': 'United States', 'In Service': 'tactical airlifter', 'Notes': 'C-130J-30[24]'}\n",
            "{'Aircraft Type': 'Hawker Siddeley HS 748', 'Origin': 'United Kingdom', 'In Service': 'tactical airlifter', 'Notes': ''}\n",
            "{'Aircraft Type': 'Mil Mi-17', 'Origin': 'Russia', 'In Service': 'utility', 'Notes': 'Mi-17V-5'}\n",
            "{'Aircraft Type': 'Mil Mi-24', 'Origin': 'Russia', 'In Service': 'attack', 'Notes': 'Mi-24/25/35'}\n",
            "{'Aircraft Type': 'HAL Rudra', 'Origin': 'India', 'In Service': 'attack', 'Notes': ''}\n",
            "{'Aircraft Type': 'HAL Dhruv', 'Origin': 'India', 'In Service': 'utility', 'Notes': ''}\n",
            "{'Aircraft Type': 'Alouette III', 'Origin': 'France/India', 'In Service': 'liaison', 'Notes': 'Chetak'}\n",
            "{'Aircraft Type': 'SA 315B Lama', 'Origin': 'France/India', 'In Service': 'utility', 'Notes': 'Cheetah'}\n",
            "{'Aircraft Type': 'Boeing AH-64', 'Origin': 'United States', 'In Service': 'attack', 'Notes': 'AH-64E'}\n",
            "{'Aircraft Type': 'CH-47 Chinook', 'Origin': 'United States', 'In Service': 'transport', 'Notes': 'CH-47F'}\n",
            "{'Aircraft Type': 'HAL Light Utility Helicopter', 'Origin': 'India', 'In Service': 'utility', 'Notes': ''}\n",
            "{'Aircraft Type': 'HAL Prachand', 'Origin': 'India', 'In Service': 'attack', 'Notes': ''}\n",
            "{'Aircraft Type': 'BAE Hawk', 'Origin': 'United Kingdom', 'In Service': 'Advanced trainer', 'Notes': 'Hawk 132'}\n",
            "{'Aircraft Type': 'HAL Kiran', 'Origin': 'India', 'In Service': 'Intermediate trainer', 'Notes': ''}\n",
            "{'Aircraft Type': 'HAL HTT-40', 'Origin': 'India', 'In Service': 'Basic trainer', 'Notes': ''}\n",
            "{'Aircraft Type': 'Pilatus PC-7', 'Origin': 'Switzerland', 'In Service': 'Basic trainer', 'Notes': 'Mk II'}\n",
            "{'Aircraft Type': 'Pipistrel Virus', 'Origin': 'Slovenia', 'In Service': 'Ab initio trainer', 'Notes': ''}\n",
            "{'Aircraft Type': 'IAI Heron', 'Origin': 'Israel', 'In Service': 'surveillance', 'Notes': 'Heron 1'}\n",
            "{'Aircraft Type': 'IAI Heron Mk 2', 'Origin': 'Israel', 'In Service': 'surveillance', 'Notes': 'Mk 2'}\n",
            "{'Aircraft Type': 'IAI Searcher', 'Origin': 'Israel', 'In Service': 'surveillance', 'Notes': 'Mk. I / II'}\n",
            "{'Aircraft Type': 'ALS-50', 'Origin': 'India', 'In Service': 'loitering munition', 'Notes': ''}\n"
          ]
        }
      ]
    },
    {
      "cell_type": "code",
      "source": [],
      "metadata": {
        "id": "c0-UTciPb7b2"
      },
      "execution_count": null,
      "outputs": []
    }
  ]
}